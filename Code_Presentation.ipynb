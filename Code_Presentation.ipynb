{
 "cells": [
  {
   "cell_type": "markdown",
   "id": "a99606d2-f043-4993-9bf1-b409227fef95",
   "metadata": {
    "tags": []
   },
   "source": [
    "## Import des bibliothèques"
   ]
  },
  {
   "cell_type": "code",
   "execution_count": 1,
   "id": "12b6c64f-18cc-4849-9dce-21e7e2611361",
   "metadata": {},
   "outputs": [
    {
     "name": "stdout",
     "output_type": "stream",
     "text": [
      "Requirement already satisfied: googleapis-common-protos in /opt/conda/lib/python3.9/site-packages (1.55.0)\n",
      "Requirement already satisfied: protobuf in /opt/conda/lib/python3.9/site-packages (3.19.4)\n",
      "Requirement already satisfied: grpcio in /opt/conda/lib/python3.9/site-packages (1.44.0)\n",
      "Requirement already satisfied: pandas in /opt/conda/lib/python3.9/site-packages (1.4.1)\n",
      "Requirement already satisfied: systemathics.apis in /opt/conda/lib/python3.9/site-packages (0.9.83)\n",
      "Requirement already satisfied: statsmodels in /opt/conda/lib/python3.9/site-packages (0.13.2)\n",
      "Requirement already satisfied: matplotlib in /opt/conda/lib/python3.9/site-packages (3.5.1)\n",
      "Requirement already satisfied: seaborn in /opt/conda/lib/python3.9/site-packages (0.11.2)\n",
      "Requirement already satisfied: scipy in /opt/conda/lib/python3.9/site-packages (1.8.0)\n",
      "Requirement already satisfied: six>=1.5.2 in /opt/conda/lib/python3.9/site-packages (from grpcio) (1.16.0)\n",
      "Requirement already satisfied: python-dateutil>=2.8.1 in /opt/conda/lib/python3.9/site-packages (from pandas) (2.8.2)\n",
      "Requirement already satisfied: numpy>=1.18.5 in /opt/conda/lib/python3.9/site-packages (from pandas) (1.22.2)\n",
      "Requirement already satisfied: pytz>=2020.1 in /opt/conda/lib/python3.9/site-packages (from pandas) (2021.3)\n",
      "Requirement already satisfied: patsy>=0.5.2 in /opt/conda/lib/python3.9/site-packages (from statsmodels) (0.5.2)\n",
      "Requirement already satisfied: packaging>=21.3 in /opt/conda/lib/python3.9/site-packages (from statsmodels) (21.3)\n",
      "Requirement already satisfied: cycler>=0.10 in /opt/conda/lib/python3.9/site-packages (from matplotlib) (0.11.0)\n",
      "Requirement already satisfied: pillow>=6.2.0 in /opt/conda/lib/python3.9/site-packages (from matplotlib) (9.0.1)\n",
      "Requirement already satisfied: kiwisolver>=1.0.1 in /opt/conda/lib/python3.9/site-packages (from matplotlib) (1.4.0)\n",
      "Requirement already satisfied: fonttools>=4.22.0 in /opt/conda/lib/python3.9/site-packages (from matplotlib) (4.31.1)\n",
      "Requirement already satisfied: pyparsing>=2.2.1 in /opt/conda/lib/python3.9/site-packages (from matplotlib) (3.0.6)\n",
      "Note: you may need to restart the kernel to use updated packages.\n"
     ]
    }
   ],
   "source": [
    "pip install googleapis-common-protos protobuf grpcio pandas systemathics.apis statsmodels matplotlib seaborn scipy"
   ]
  },
  {
   "cell_type": "code",
   "execution_count": 2,
   "id": "6ac8c1ed-9e21-49f1-8098-1f90a4973a06",
   "metadata": {},
   "outputs": [],
   "source": [
    "import os\n",
    "import re\n",
    "import grpc\n",
    "import pandas as pd\n",
    "import seaborn\n",
    "import statsmodels.api as sm\n",
    "import google.protobuf as pb\n",
    "import systemathics.apis.services.static_data.v1.static_data_pb2 as static_data\n",
    "import systemathics.apis.services.static_data.v1.static_data_pb2_grpc as static_data_service\n",
    "import numpy as np\n",
    "from statsmodels.tsa.stattools import adfuller,coint\n",
    "import matplotlib.pyplot as plt\n",
    "import systemathics.apis.type.shared.v1.identifier_pb2 as identifier\n",
    "import systemathics.apis.services.daily.v1.daily_prices_pb2 as daily_prices\n",
    "import systemathics.apis.services.daily.v1.daily_prices_pb2_grpc as daily_prices_service\n",
    "from datetime import datetime\n",
    "import itertools\n",
    "import copy\n",
    "from scipy.optimize import minimize"
   ]
  },
  {
   "cell_type": "code",
   "execution_count": 3,
   "id": "31c2cdd6-1349-4f75-93be-44dd1e340855",
   "metadata": {},
   "outputs": [
    {
     "data": {
      "text/plain": [
       "'Bearer eyJhbGciOiJSUzI1NiIsInR5cCI6IkpXVCIsImtpZCI6ImpwZDhjS2Z5Zi13QXkzOURpNENqWSJ9.eyJodHRwOi8vc2NoZW1hcy54bWxzb2FwLm9yZy93cy8yMDA1LzA1L2lkZW50aXR5L2NsYWltcy9lbWFpbGFkZHJlc3MiOiJhcnRodXIudmlub3RAZWR1LmRldmluY2kuZnIiLCJpc3MiOiJodHRwczovL2dhbnltZWRlLXByb2QuZXUuYXV0aDAuY29tLyIsInN1YiI6ImF1dGgwfDYxNmQ4NzI5NWQzZDlkMDA3MGVkYmIxNCIsImF1ZCI6WyJodHRwczovL3Byb2QuZ2FueW1lZGUtcHJvZCIsImh0dHBzOi8vZ2FueW1lZGUtcHJvZC5ldS5hdXRoMC5jb20vdXNlcmluZm8iXSwiaWF0IjoxNjQ3Nzc0MzYyLCJleHAiOjE2NTAzNjYzNjIsImF6cCI6Ijl5R0tzbGtFczFWNm9xRk9aa0h0a1V0NWkyNTVackpJIiwic2NvcGUiOiJvcGVuaWQgcHJvZmlsZSBlbWFpbCIsInBlcm1pc3Npb25zIjpbImFkbWluIiwiYXJ0ZWZhY3RzIiwiY2hhbmdlcyIsImNvbXBvbmVudHMiLCJkYWlseV9iYXJzIiwiZGFpbHlfYm9sbGluZ2VyIiwiZGFpbHlfY21hIiwiZGFpbHlfZW1hIiwiZGFpbHlfbWFjZCIsImRhaWx5X3ByaWNlcyIsImRhaWx5X3JzaSIsImRhaWx5X3NtYSIsImRhaWx5X3ZvbGF0aWxpdHkiLCJkYWlseV92d2FwcyIsImRpdmlkZW5kcyIsImlkZW50aWZpZXJfbWFwcGluZyIsImludHJhZGF5X2JhcnMiLCJpbnRyYWRheV9ib2xsaW5nZXIiLCJpbnRyYWRheV9jbWEiLCJpbnRyYWRheV9lbWEiLCJpbnRyYWRheV9tYWNkIiwiaW50cmFkYXlfcHJpY2VzIiwiaW50cmFkYXlfcnNpIiwiaW50cmFkYXlfc21hIiwiaW50cmFkYXlfdm9sYXRpbGl0eSIsImludHJhZGF5X3Z3YXBzIiwibWVtb3MiLCJzcGxpdHMiLCJzdGF0aWNfZGF0YSIsInN0YXRpY19zZWN0b3IiLCJzdXN0YWluYWJpbGl0eSIsInRpY2tfYmFycyIsInRpY2tfYm9sbGluZ2VyIiwidGlja19ib29rIiwidGlja19jbWEiLCJ0aWNrX2NvbmRpdGlvbnMiLCJ0aWNrX2VtYSIsInRpY2tfcmF3IiwidGlja19zbWEiLCJ0aWNrX3RyYWRlcyIsInRpY2tfdHJhZGVzX2FuZF9ib29rIiwidGlja191cGRhdGVzIiwidGlja192d2FwIiwidG9wb2xvZ2llcyJdfQ.vg65IAMeh2g-aLdZWwZFjxDeNHLqQj7qmu9HTEPc1JBuaoLB1HbpfEb2xa6AMi1rSOVHlWHH73fdCeuxwiBMP5Lelhx0SmWfJ44X7nXr39BBm4gRdzgS2-V9mqSd8akSlrwGiu8Q0U95YSX1YIgXOZZYZ8UA7ZmaFJbcrnBv_BIJksPcR3GUHaq9_0pGHR9EjVvawOYUniSOe3Y-h1tV9RAsR0wi7JM8g0OSdIy7ntjuh1F_0xvDzKaRTCy5-kCICd6M--hKgDtObLXTv4p-xldSgeiOAXULdSVYLeuwXR5t4znJroRFTnNzIe5TbfWst0HgZ3zop9W5WpOc_mVFvQ'"
      ]
     },
     "metadata": {},
     "output_type": "display_data"
    }
   ],
   "source": [
    "## Authentification\n",
    "\n",
    "token = f\"Bearer {os.environ['AUTH0_TOKEN']}\"\n",
    "display(token)"
   ]
  },
  {
   "cell_type": "markdown",
   "id": "8cf8860b-004c-4ae4-b02d-f5f08f721300",
   "metadata": {
    "tags": []
   },
   "source": [
    "# Sélection des paires"
   ]
  },
  {
   "cell_type": "markdown",
   "id": "dc093431-abd0-45c1-976d-98f584d736dd",
   "metadata": {
    "tags": []
   },
   "source": [
    "## Choix des indicateurs de sélection"
   ]
  },
  {
   "cell_type": "markdown",
   "id": "56e1c975-f8ea-4a06-8e6d-594d6bfdccf8",
   "metadata": {
    "tags": []
   },
   "source": [
    "### Correlation"
   ]
  },
  {
   "cell_type": "code",
   "execution_count": 4,
   "id": "77177a7f-a657-4925-8ff3-e42a97fee217",
   "metadata": {},
   "outputs": [],
   "source": [
    "def correlation(timeseries1,timeseries2):\n",
    "    return np.corrcoef(sample1_sum,sample2_sum)[0,1]\n",
    "# Correlation need to be near 1"
   ]
  },
  {
   "cell_type": "markdown",
   "id": "55353394-74ff-4b1a-9db7-6c70b0c39204",
   "metadata": {
    "tags": []
   },
   "source": [
    "### Stationarity"
   ]
  },
  {
   "cell_type": "code",
   "execution_count": 5,
   "id": "3e66b0d7-874e-4daf-a746-4716344c56c2",
   "metadata": {},
   "outputs": [],
   "source": [
    "def stationarity_test_bool(timeseries,cutoff=0.01):\n",
    "    # H_0 in adfuller is unit root exists (non-stationary)\n",
    "    # We must observe significant p-value to convince ourselves that the series is stationary\n",
    "    pvalue = adfuller(timeseries, maxlag=3)[1]\n",
    "    return True if pvalue<cutoff else False"
   ]
  },
  {
   "cell_type": "code",
   "execution_count": 6,
   "id": "49b14de9-08a5-4377-8105-2122f8345af0",
   "metadata": {},
   "outputs": [],
   "source": [
    "def stationarity_test_pvalue(timeseries,cutoff=0.01):\n",
    "    # H_0 in adfuller is unit root exists (non-stationary)\n",
    "    # We must observe significant p-value to convince ourselves that the series is stationary\n",
    "    return adfuller(timeseries, maxlag=3)[1]"
   ]
  },
  {
   "cell_type": "markdown",
   "id": "0e647754-9a22-4295-a631-7d590c63c311",
   "metadata": {},
   "source": [
    "### Cointegration"
   ]
  },
  {
   "cell_type": "code",
   "execution_count": 7,
   "id": "468933e4-4c5f-4f09-97b6-0b5b5866c637",
   "metadata": {},
   "outputs": [],
   "source": [
    "def cointegration_test(timeseries1,timeseries2):\n",
    "    return coint(timeseries1,timeseries2, maxlag=3)[1]    # return the p-value of the test\n",
    "\n",
    "# Low pvalue means high cointegration!"
   ]
  },
  {
   "cell_type": "markdown",
   "id": "c53074c3-3083-432b-befa-449e623f3810",
   "metadata": {},
   "source": [
    "### Standardized data"
   ]
  },
  {
   "cell_type": "code",
   "execution_count": 8,
   "id": "d6d75bf4-573c-4afd-9b89-de808543aeab",
   "metadata": {},
   "outputs": [],
   "source": [
    "def mean_norm(df_input):\n",
    "    df_input.loc[:, df_input.columns != \"Date\"] = df_input.loc[:, df_input.columns != \"Date\"].apply(lambda x: (x-x.mean())/ x.std(), axis=0)\n",
    "    return df_input\n",
    "#We have to choose the best way to standardized the dataframe here"
   ]
  },
  {
   "cell_type": "markdown",
   "id": "f056744b-1dd3-423e-96eb-051c385a2612",
   "metadata": {},
   "source": [
    "## Application des indicateurs de sélection"
   ]
  },
  {
   "cell_type": "markdown",
   "id": "69a1b3c1-8491-4e31-b889-f09c75aba126",
   "metadata": {},
   "source": [
    "### Recueil des données"
   ]
  },
  {
   "cell_type": "markdown",
   "id": "63022ef0-6f74-4b50-a1bc-56d8b32b4ad4",
   "metadata": {},
   "source": [
    "#### Recueil des tickers"
   ]
  },
  {
   "cell_type": "code",
   "execution_count": 9,
   "id": "80f85ab0-f81b-4746-8c57-430df9168830",
   "metadata": {},
   "outputs": [],
   "source": [
    "# define a method to handle the equities reponse using a Pandas dataframe\n",
    "def get_equities_dataframe(response):\n",
    "    identifier = ['{0}|{1}'.format(equity.identifier.ticker, equity.identifier.exchange) for equity in response.equities]\n",
    "    type = [equity.type for equity in response.equities]\n",
    "    country = [equity.country for equity in response.equities]\n",
    "    name = [equity.name for equity in response.equities]\n",
    "    currency = [equity.currency for equity in response.equities]\n",
    "    primary = [equity.primary for equity in response.equities]\n",
    "    tick_size_rule = [equity.tick_size_rule for equity in response.equities]\n",
    "    mapping = [get_mapping(equity.mapping) for equity in response.equities]\n",
    "    index = [equity.index for equity in response.equities]\n",
    "    open = [equity.open for equity in response.equities]\n",
    "    close = [equity.close for equity in response.equities]\n",
    "    time_zone = [equity.time_zone for equity in response.equities]\n",
    "    lot_size = [equity.lot_size for equity in response.equities]\n",
    "    point_value = [equity.point_value for equity in response.equities]\n",
    "    isin = [equity.isin for equity in response.equities]\n",
    "    cusip = [equity.cusip for equity in response.equities]\n",
    "    sedol = [equity.sedol for equity in response.equities]\n",
    "    sectors = [get_sectors(equity.sectors) for equity in response.equities]\n",
    "    capitalization = [equity.capitalization.value for equity in response.equities]\n",
    "    \n",
    "    # Create pandas dataframe\n",
    "    d = {'Identifier': identifier, 'Type': type, 'Country': country, 'Name': name, 'Currency': currency, 'Primary': primary, 'TickSizeRule': tick_size_rule, 'Mapping':mapping, 'Index': index, 'Open': open, 'Close': close, 'Time zone': time_zone, 'Lot size': lot_size, 'PointValue': point_value, 'Isin': isin, 'Cusip': cusip, 'Sedol': sedol, 'Sectors': sectors, 'Capitalization': capitalization}\n",
    "    df = pd.DataFrame(data=d)\n",
    "    return df"
   ]
  },
  {
   "cell_type": "code",
   "execution_count": 10,
   "id": "5be1efd7-5663-40f5-af51-5ea40cb1fbff",
   "metadata": {},
   "outputs": [],
   "source": [
    "# define methods to handle identifiers mapping and sectors display as a string\n",
    "def get_mapping(d):\n",
    "    res=''\n",
    "    for key, value in d.items():\n",
    "        res = res + '['+key+'='+value+']'\n",
    "    return res\n",
    "\n",
    "def get_sectors(d):\n",
    "    res=''\n",
    "    for key, value in d.items():\n",
    "        res = res + '['+key+','+value+']'\n",
    "    return res\n",
    "\n",
    "def get_identifier(d):\n",
    "    res=''\n",
    "    for key, value in d.items():\n",
    "        res = res + '['+key+'='+value+']'\n",
    "    return res"
   ]
  },
  {
   "cell_type": "code",
   "execution_count": 11,
   "id": "34212a4b-7d82-4dff-a0f2-e08ae7020e30",
   "metadata": {},
   "outputs": [],
   "source": [
    "# generate static data request\n",
    "request = static_data.StaticDataRequest( \n",
    "    asset_type = static_data.AssetType.ASSET_TYPE_EQUITY\n",
    ")\n",
    "\n",
    "#request.index.value = 'Nasdaq 100'\n",
    "request.exchange.value = 'XNGS'     # Requête qui ne filtre que la bourse primaire mais pas la bourse réelle\n",
    "request.count.value = 1000"
   ]
  },
  {
   "cell_type": "code",
   "execution_count": 12,
   "id": "f0075987-1815-4717-b206-5c568ac4721b",
   "metadata": {},
   "outputs": [
    {
     "data": {
      "text/html": [
       "<div>\n",
       "<style scoped>\n",
       "    .dataframe tbody tr th:only-of-type {\n",
       "        vertical-align: middle;\n",
       "    }\n",
       "\n",
       "    .dataframe tbody tr th {\n",
       "        vertical-align: top;\n",
       "    }\n",
       "\n",
       "    .dataframe thead th {\n",
       "        text-align: right;\n",
       "    }\n",
       "</style>\n",
       "<table border=\"1\" class=\"dataframe\">\n",
       "  <thead>\n",
       "    <tr style=\"text-align: right;\">\n",
       "      <th></th>\n",
       "      <th>Identifier</th>\n",
       "      <th>Type</th>\n",
       "      <th>Country</th>\n",
       "      <th>Name</th>\n",
       "      <th>Currency</th>\n",
       "      <th>Primary</th>\n",
       "      <th>TickSizeRule</th>\n",
       "      <th>Mapping</th>\n",
       "      <th>Index</th>\n",
       "      <th>Open</th>\n",
       "      <th>Close</th>\n",
       "      <th>Time zone</th>\n",
       "      <th>Lot size</th>\n",
       "      <th>PointValue</th>\n",
       "      <th>Isin</th>\n",
       "      <th>Cusip</th>\n",
       "      <th>Sedol</th>\n",
       "      <th>Sectors</th>\n",
       "      <th>Capitalization</th>\n",
       "    </tr>\n",
       "  </thead>\n",
       "  <tbody>\n",
       "    <tr>\n",
       "      <th>50</th>\n",
       "      <td>AAPL|XNGS</td>\n",
       "      <td>Equity</td>\n",
       "      <td>US</td>\n",
       "      <td>Apple Inc Common Stock</td>\n",
       "      <td>USD</td>\n",
       "      <td>XNGS</td>\n",
       "      <td>[0:0.0001][1:0.01]</td>\n",
       "      <td>[Idc|564=564|AAPL][Figi=BBG000B9XRY4][Bloomber...</td>\n",
       "      <td>Composite|Industrials|Nasdaq 100|Nasdaq Compos...</td>\n",
       "      <td></td>\n",
       "      <td></td>\n",
       "      <td></td>\n",
       "      <td>1</td>\n",
       "      <td>1.0</td>\n",
       "      <td>US0378331005</td>\n",
       "      <td>037833100</td>\n",
       "      <td>2046251</td>\n",
       "      <td>[Nasdaq,Computer Manufacturing][SIC,3571 Elect...</td>\n",
       "      <td>2.784724e+12</td>\n",
       "    </tr>\n",
       "    <tr>\n",
       "      <th>130</th>\n",
       "      <td>ABNB|XNGS</td>\n",
       "      <td>Equity</td>\n",
       "      <td>US</td>\n",
       "      <td>Airbnb Inc Cl A</td>\n",
       "      <td>USD</td>\n",
       "      <td>XNGS</td>\n",
       "      <td>[0:0.0001][1:0.01]</td>\n",
       "      <td>[Figic=BBG001Y2XS07][Bloomberg=ABNB US Equity]...</td>\n",
       "      <td>Nasdaq 100|Nasdaq Composite|nasdaq100</td>\n",
       "      <td></td>\n",
       "      <td></td>\n",
       "      <td></td>\n",
       "      <td>1</td>\n",
       "      <td>1.0</td>\n",
       "      <td>US0090661010</td>\n",
       "      <td>009066101</td>\n",
       "      <td>BMGYYH4</td>\n",
       "      <td>[SIC,7340 Services-To Dwellings &amp; Other Buildi...</td>\n",
       "      <td>9.396266e+10</td>\n",
       "    </tr>\n",
       "    <tr>\n",
       "      <th>104</th>\n",
       "      <td>ADBE|XNGS</td>\n",
       "      <td>Equity</td>\n",
       "      <td>US</td>\n",
       "      <td>Adobe Inc</td>\n",
       "      <td>USD</td>\n",
       "      <td>XNGS</td>\n",
       "      <td>[0:0.0001][1:0.01]</td>\n",
       "      <td>[Figic=BBG000BB5006][Esignal=ADBE][Idc|564=564...</td>\n",
       "      <td>Nasdaq 100|Nasdaq Composite|Russell 1000|Russe...</td>\n",
       "      <td></td>\n",
       "      <td></td>\n",
       "      <td></td>\n",
       "      <td>1</td>\n",
       "      <td>1.0</td>\n",
       "      <td>US00724F1012</td>\n",
       "      <td>00724F101</td>\n",
       "      <td>2008154</td>\n",
       "      <td>[Nasdaq,Computer Software: Prepackaged Softwar...</td>\n",
       "      <td>2.098938e+11</td>\n",
       "    </tr>\n",
       "    <tr>\n",
       "      <th>2</th>\n",
       "      <td>ADI|XNGS</td>\n",
       "      <td>Equity</td>\n",
       "      <td>US</td>\n",
       "      <td>Analog Devices Inc</td>\n",
       "      <td>USD</td>\n",
       "      <td>XNGS</td>\n",
       "      <td>[0:0.0001][1:0.01]</td>\n",
       "      <td>[Reuters=ADI.OQ][Figi=BBG000BB6G37][Esignal=AD...</td>\n",
       "      <td>Nasdaq 100|Nasdaq Composite|Russell 1000|Russe...</td>\n",
       "      <td></td>\n",
       "      <td></td>\n",
       "      <td></td>\n",
       "      <td>1</td>\n",
       "      <td>1.0</td>\n",
       "      <td>US0326541051</td>\n",
       "      <td>032654105</td>\n",
       "      <td>2032067</td>\n",
       "      <td>[SIC,3674 Semiconductors &amp; Related Devices][Na...</td>\n",
       "      <td>8.371995e+10</td>\n",
       "    </tr>\n",
       "    <tr>\n",
       "      <th>61</th>\n",
       "      <td>ADP|XNGS</td>\n",
       "      <td>Equity</td>\n",
       "      <td>US</td>\n",
       "      <td>Automatic Data Processing Inc</td>\n",
       "      <td>USD</td>\n",
       "      <td>XNGS</td>\n",
       "      <td>[0:0.0001][1:0.01]</td>\n",
       "      <td>[Reuters=ADP.OQ][Bloomberg=ADP US Equity][Figi...</td>\n",
       "      <td>Nasdaq 100|Nasdaq Composite|Russell 1000|Russe...</td>\n",
       "      <td></td>\n",
       "      <td></td>\n",
       "      <td></td>\n",
       "      <td>1</td>\n",
       "      <td>1.0</td>\n",
       "      <td>US0530151036</td>\n",
       "      <td>053015103</td>\n",
       "      <td>2065308</td>\n",
       "      <td>[Nasdaq,Business Services][SIC,7374 Services-C...</td>\n",
       "      <td>8.985608e+10</td>\n",
       "    </tr>\n",
       "    <tr>\n",
       "      <th>...</th>\n",
       "      <td>...</td>\n",
       "      <td>...</td>\n",
       "      <td>...</td>\n",
       "      <td>...</td>\n",
       "      <td>...</td>\n",
       "      <td>...</td>\n",
       "      <td>...</td>\n",
       "      <td>...</td>\n",
       "      <td>...</td>\n",
       "      <td>...</td>\n",
       "      <td>...</td>\n",
       "      <td>...</td>\n",
       "      <td>...</td>\n",
       "      <td>...</td>\n",
       "      <td>...</td>\n",
       "      <td>...</td>\n",
       "      <td>...</td>\n",
       "      <td>...</td>\n",
       "      <td>...</td>\n",
       "    </tr>\n",
       "    <tr>\n",
       "      <th>106</th>\n",
       "      <td>WBA|XNGS</td>\n",
       "      <td>Equity</td>\n",
       "      <td>US</td>\n",
       "      <td>Walgreens Boots Alliance Inc</td>\n",
       "      <td>USD</td>\n",
       "      <td>XNGS</td>\n",
       "      <td>[0:0.0001][1:0.01]</td>\n",
       "      <td>[Figic=BBG000BWLMJ4][Bloomberg=WBA US Equity][...</td>\n",
       "      <td>Composite|Industrials|Nasdaq 100|Nasdaq Compos...</td>\n",
       "      <td></td>\n",
       "      <td></td>\n",
       "      <td></td>\n",
       "      <td>1</td>\n",
       "      <td>1.0</td>\n",
       "      <td>US9314271084</td>\n",
       "      <td>931427108</td>\n",
       "      <td>BTN1Y44</td>\n",
       "      <td>[SIC,5912 Retail-Drug Stores and Proprietary S...</td>\n",
       "      <td>4.098816e+10</td>\n",
       "    </tr>\n",
       "    <tr>\n",
       "      <th>59</th>\n",
       "      <td>WDAY|XNGS</td>\n",
       "      <td>Equity</td>\n",
       "      <td>US</td>\n",
       "      <td>Workday Inc</td>\n",
       "      <td>USD</td>\n",
       "      <td>XNGS</td>\n",
       "      <td>[0:0.0001][1:0.01]</td>\n",
       "      <td>[Figi=BBG000VC0T95][Figic=BBG000VC0T95][Reuter...</td>\n",
       "      <td>Nasdaq 100|Nasdaq Composite|Russell 1000|Russe...</td>\n",
       "      <td></td>\n",
       "      <td></td>\n",
       "      <td></td>\n",
       "      <td>1</td>\n",
       "      <td>1.0</td>\n",
       "      <td>US98138H1014</td>\n",
       "      <td>98138H101</td>\n",
       "      <td>B8K6ZD1</td>\n",
       "      <td>[SIC,7374 Services-Computer Processing &amp; Data ...</td>\n",
       "      <td>5.906030e+10</td>\n",
       "    </tr>\n",
       "    <tr>\n",
       "      <th>95</th>\n",
       "      <td>XEL|XNGS</td>\n",
       "      <td>Equity</td>\n",
       "      <td>US</td>\n",
       "      <td>Xcel Energy Inc</td>\n",
       "      <td>USD</td>\n",
       "      <td>XNGS</td>\n",
       "      <td>[0:0.0001][1:0.01]</td>\n",
       "      <td>[Figi=BBG000BCTQ65][Reuters=XEL.OQ][Esignal=XE...</td>\n",
       "      <td>Composite|Nasdaq 100|Nasdaq Composite|Russell ...</td>\n",
       "      <td></td>\n",
       "      <td></td>\n",
       "      <td></td>\n",
       "      <td>1</td>\n",
       "      <td>1.0</td>\n",
       "      <td>US98389B1008</td>\n",
       "      <td>98389B100</td>\n",
       "      <td>2614807</td>\n",
       "      <td>[SIC,4931 Electric &amp; Other Services Combined][...</td>\n",
       "      <td>3.793170e+10</td>\n",
       "    </tr>\n",
       "    <tr>\n",
       "      <th>131</th>\n",
       "      <td>ZM|XNGS</td>\n",
       "      <td>Equity</td>\n",
       "      <td>US</td>\n",
       "      <td>Zoom Video Communications Cl A</td>\n",
       "      <td>USD</td>\n",
       "      <td>XNGS</td>\n",
       "      <td>[0:0.0001][1:0.01]</td>\n",
       "      <td>[Reuters=ZM.OQ][Esignal=ZM][Bloomberg=ZM US Eq...</td>\n",
       "      <td>Nasdaq 100|Nasdaq Composite|Russell 1000|Russe...</td>\n",
       "      <td></td>\n",
       "      <td></td>\n",
       "      <td></td>\n",
       "      <td>1</td>\n",
       "      <td>1.0</td>\n",
       "      <td>US98980L1017</td>\n",
       "      <td>98980L101</td>\n",
       "      <td>BGSP7M9</td>\n",
       "      <td>[SIC,7370 Services-Computer Programming, Data ...</td>\n",
       "      <td>3.328951e+10</td>\n",
       "    </tr>\n",
       "    <tr>\n",
       "      <th>52</th>\n",
       "      <td>ZS|XNGS</td>\n",
       "      <td>Equity</td>\n",
       "      <td>US</td>\n",
       "      <td>Zscaler Inc</td>\n",
       "      <td>USD</td>\n",
       "      <td>XNGS</td>\n",
       "      <td>[0:0.0001][1:0.01]</td>\n",
       "      <td>[Bloomberg=ZS US Equity][Figi=BBG003338H34][Re...</td>\n",
       "      <td>Nasdaq 100|Nasdaq Composite|Russell 1000|Russe...</td>\n",
       "      <td></td>\n",
       "      <td></td>\n",
       "      <td></td>\n",
       "      <td>1</td>\n",
       "      <td>1.0</td>\n",
       "      <td>US98980G1022</td>\n",
       "      <td>98980G102</td>\n",
       "      <td>BZ00V34</td>\n",
       "      <td>[SIC,7371 Services-Computer Programming Services]</td>\n",
       "      <td>3.030936e+10</td>\n",
       "    </tr>\n",
       "  </tbody>\n",
       "</table>\n",
       "<p>95 rows × 19 columns</p>\n",
       "</div>"
      ],
      "text/plain": [
       "    Identifier    Type Country                            Name Currency  \\\n",
       "50   AAPL|XNGS  Equity      US          Apple Inc Common Stock      USD   \n",
       "130  ABNB|XNGS  Equity      US                 Airbnb Inc Cl A      USD   \n",
       "104  ADBE|XNGS  Equity      US                       Adobe Inc      USD   \n",
       "2     ADI|XNGS  Equity      US              Analog Devices Inc      USD   \n",
       "61    ADP|XNGS  Equity      US   Automatic Data Processing Inc      USD   \n",
       "..         ...     ...     ...                             ...      ...   \n",
       "106   WBA|XNGS  Equity      US    Walgreens Boots Alliance Inc      USD   \n",
       "59   WDAY|XNGS  Equity      US                     Workday Inc      USD   \n",
       "95    XEL|XNGS  Equity      US                 Xcel Energy Inc      USD   \n",
       "131    ZM|XNGS  Equity      US  Zoom Video Communications Cl A      USD   \n",
       "52     ZS|XNGS  Equity      US                     Zscaler Inc      USD   \n",
       "\n",
       "    Primary        TickSizeRule  \\\n",
       "50     XNGS  [0:0.0001][1:0.01]   \n",
       "130    XNGS  [0:0.0001][1:0.01]   \n",
       "104    XNGS  [0:0.0001][1:0.01]   \n",
       "2      XNGS  [0:0.0001][1:0.01]   \n",
       "61     XNGS  [0:0.0001][1:0.01]   \n",
       "..      ...                 ...   \n",
       "106    XNGS  [0:0.0001][1:0.01]   \n",
       "59     XNGS  [0:0.0001][1:0.01]   \n",
       "95     XNGS  [0:0.0001][1:0.01]   \n",
       "131    XNGS  [0:0.0001][1:0.01]   \n",
       "52     XNGS  [0:0.0001][1:0.01]   \n",
       "\n",
       "                                               Mapping  \\\n",
       "50   [Idc|564=564|AAPL][Figi=BBG000B9XRY4][Bloomber...   \n",
       "130  [Figic=BBG001Y2XS07][Bloomberg=ABNB US Equity]...   \n",
       "104  [Figic=BBG000BB5006][Esignal=ADBE][Idc|564=564...   \n",
       "2    [Reuters=ADI.OQ][Figi=BBG000BB6G37][Esignal=AD...   \n",
       "61   [Reuters=ADP.OQ][Bloomberg=ADP US Equity][Figi...   \n",
       "..                                                 ...   \n",
       "106  [Figic=BBG000BWLMJ4][Bloomberg=WBA US Equity][...   \n",
       "59   [Figi=BBG000VC0T95][Figic=BBG000VC0T95][Reuter...   \n",
       "95   [Figi=BBG000BCTQ65][Reuters=XEL.OQ][Esignal=XE...   \n",
       "131  [Reuters=ZM.OQ][Esignal=ZM][Bloomberg=ZM US Eq...   \n",
       "52   [Bloomberg=ZS US Equity][Figi=BBG003338H34][Re...   \n",
       "\n",
       "                                                 Index Open Close Time zone  \\\n",
       "50   Composite|Industrials|Nasdaq 100|Nasdaq Compos...                        \n",
       "130              Nasdaq 100|Nasdaq Composite|nasdaq100                        \n",
       "104  Nasdaq 100|Nasdaq Composite|Russell 1000|Russe...                        \n",
       "2    Nasdaq 100|Nasdaq Composite|Russell 1000|Russe...                        \n",
       "61   Nasdaq 100|Nasdaq Composite|Russell 1000|Russe...                        \n",
       "..                                                 ...  ...   ...       ...   \n",
       "106  Composite|Industrials|Nasdaq 100|Nasdaq Compos...                        \n",
       "59   Nasdaq 100|Nasdaq Composite|Russell 1000|Russe...                        \n",
       "95   Composite|Nasdaq 100|Nasdaq Composite|Russell ...                        \n",
       "131  Nasdaq 100|Nasdaq Composite|Russell 1000|Russe...                        \n",
       "52   Nasdaq 100|Nasdaq Composite|Russell 1000|Russe...                        \n",
       "\n",
       "     Lot size  PointValue          Isin      Cusip    Sedol  \\\n",
       "50          1         1.0  US0378331005  037833100  2046251   \n",
       "130         1         1.0  US0090661010  009066101  BMGYYH4   \n",
       "104         1         1.0  US00724F1012  00724F101  2008154   \n",
       "2           1         1.0  US0326541051  032654105  2032067   \n",
       "61          1         1.0  US0530151036  053015103  2065308   \n",
       "..        ...         ...           ...        ...      ...   \n",
       "106         1         1.0  US9314271084  931427108  BTN1Y44   \n",
       "59          1         1.0  US98138H1014  98138H101  B8K6ZD1   \n",
       "95          1         1.0  US98389B1008  98389B100  2614807   \n",
       "131         1         1.0  US98980L1017  98980L101  BGSP7M9   \n",
       "52          1         1.0  US98980G1022  98980G102  BZ00V34   \n",
       "\n",
       "                                               Sectors  Capitalization  \n",
       "50   [Nasdaq,Computer Manufacturing][SIC,3571 Elect...    2.784724e+12  \n",
       "130  [SIC,7340 Services-To Dwellings & Other Buildi...    9.396266e+10  \n",
       "104  [Nasdaq,Computer Software: Prepackaged Softwar...    2.098938e+11  \n",
       "2    [SIC,3674 Semiconductors & Related Devices][Na...    8.371995e+10  \n",
       "61   [Nasdaq,Business Services][SIC,7374 Services-C...    8.985608e+10  \n",
       "..                                                 ...             ...  \n",
       "106  [SIC,5912 Retail-Drug Stores and Proprietary S...    4.098816e+10  \n",
       "59   [SIC,7374 Services-Computer Processing & Data ...    5.906030e+10  \n",
       "95   [SIC,4931 Electric & Other Services Combined][...    3.793170e+10  \n",
       "131  [SIC,7370 Services-Computer Programming, Data ...    3.328951e+10  \n",
       "52   [SIC,7371 Services-Computer Programming Services]    3.030936e+10  \n",
       "\n",
       "[95 rows x 19 columns]"
      ]
     },
     "execution_count": 12,
     "metadata": {},
     "output_type": "execute_result"
    }
   ],
   "source": [
    "# open a gRPC channel\n",
    "with open(os.environ['SSL_CERT_FILE'], 'rb') as f:\n",
    "    credentials = grpc.ssl_channel_credentials(f.read())\n",
    "with grpc.secure_channel(os.environ['GRPC_APIS'], credentials) as channel:\n",
    "    \n",
    "    # instantiate the static data service\n",
    "    service = static_data_service.StaticDataServiceStub(channel)\n",
    "    \n",
    "    # process the request\n",
    "    response = service.StaticData(request = request, metadata = [('authorization', token)])\n",
    "\n",
    "# visualize request results\n",
    "data = get_equities_dataframe(response)\n",
    "\n",
    "data = data[data.Identifier.str.split('|').str[1] == \"XNGS\"]        # Ces deux lignes réctifient le problème du filtre de la bourse \n",
    "data = data[data.Index.str.contains(r\"Nasdaq 100\") == True]          # dans la requete qui ne filtre pas complètement\n",
    "\n",
    "data.sort_values('Identifier')"
   ]
  },
  {
   "cell_type": "markdown",
   "id": "4e573a0b-502b-4b04-b2d5-2f4e1a989455",
   "metadata": {
    "tags": []
   },
   "source": [
    "### Get Ticker List"
   ]
  },
  {
   "cell_type": "code",
   "execution_count": 13,
   "id": "c54265f4-cb19-4783-aec3-553a64ac8faf",
   "metadata": {},
   "outputs": [],
   "source": [
    "def get_ticker_list(data):\n",
    "    return data.Identifier.str.split('|').str[0].tolist()"
   ]
  },
  {
   "cell_type": "code",
   "execution_count": 14,
   "id": "4f54b3ff-5ee8-4c24-91ad-ee58d177eeac",
   "metadata": {},
   "outputs": [],
   "source": [
    "ticker_list = get_ticker_list(data)"
   ]
  },
  {
   "cell_type": "markdown",
   "id": "6316798f-20ce-4215-b5bc-d0224d847405",
   "metadata": {},
   "source": [
    "### Recupération des SIC (secteur)"
   ]
  },
  {
   "cell_type": "code",
   "execution_count": 15,
   "id": "ba795eda-3b5c-4714-8c2d-05717ae1b5a8",
   "metadata": {},
   "outputs": [],
   "source": [
    "def get_sic(data):      # Fonction qui permet de récupérer le code SIC d'un tableau d'equities contenant la colone ['Sectors']\n",
    "    sic = []            # Cette fonction ajoute au dataframe une nouvelle colone appelée ['SIC'] au dataframe d'equities\n",
    "    for i in range(len(data)):\n",
    "        ligne = data.iloc[i]['Sectors']\n",
    "        match = re.search(r\"SIC,([0-9]{2})\", ligne)\n",
    "        sic.append(match.group().split(\",\")[1])\n",
    "    data['SIC'] = sic\n",
    "    return data"
   ]
  },
  {
   "cell_type": "code",
   "execution_count": 16,
   "id": "1acbfc8f-e581-44b1-ac05-1a6fbaea39ac",
   "metadata": {},
   "outputs": [],
   "source": [
    "data = get_sic(data)"
   ]
  },
  {
   "cell_type": "markdown",
   "id": "f4f31479-25be-4412-8500-f3d5af0f3ce9",
   "metadata": {},
   "source": [
    "### Liste de Dataframes par SIC"
   ]
  },
  {
   "cell_type": "code",
   "execution_count": 17,
   "id": "b0e21df6-f6cf-46c2-9da9-1c3d077318e5",
   "metadata": {},
   "outputs": [],
   "source": [
    "def sep_secteur(data):\n",
    "    groups = data.groupby(['SIC'])\n",
    "    liste_sic = data['SIC'].unique()\n",
    "    liste_sic.sort()\n",
    "    df_SIC = []\n",
    "    for i in range(len(liste_sic)):\n",
    "        df_SIC.append(groups.get_group(liste_sic[i]))\n",
    "    return df_SIC"
   ]
  },
  {
   "cell_type": "code",
   "execution_count": 18,
   "id": "4cf86987-084d-40d1-8a80-d05cd2e78be8",
   "metadata": {},
   "outputs": [],
   "source": [
    "data_sec = sep_secteur(data)   # Liste de DF avec entreprises par secteur (selon le SIC)"
   ]
  },
  {
   "cell_type": "code",
   "execution_count": 19,
   "id": "0d703b24-e741-47a2-bab2-05519f152557",
   "metadata": {},
   "outputs": [
    {
     "data": {
      "text/html": [
       "<div>\n",
       "<style scoped>\n",
       "    .dataframe tbody tr th:only-of-type {\n",
       "        vertical-align: middle;\n",
       "    }\n",
       "\n",
       "    .dataframe tbody tr th {\n",
       "        vertical-align: top;\n",
       "    }\n",
       "\n",
       "    .dataframe thead th {\n",
       "        text-align: right;\n",
       "    }\n",
       "</style>\n",
       "<table border=\"1\" class=\"dataframe\">\n",
       "  <thead>\n",
       "    <tr style=\"text-align: right;\">\n",
       "      <th></th>\n",
       "      <th>Identifier</th>\n",
       "      <th>Type</th>\n",
       "      <th>Country</th>\n",
       "      <th>Name</th>\n",
       "      <th>Currency</th>\n",
       "      <th>Primary</th>\n",
       "      <th>TickSizeRule</th>\n",
       "      <th>Mapping</th>\n",
       "      <th>Index</th>\n",
       "      <th>Open</th>\n",
       "      <th>Close</th>\n",
       "      <th>Time zone</th>\n",
       "      <th>Lot size</th>\n",
       "      <th>PointValue</th>\n",
       "      <th>Isin</th>\n",
       "      <th>Cusip</th>\n",
       "      <th>Sedol</th>\n",
       "      <th>Sectors</th>\n",
       "      <th>Capitalization</th>\n",
       "      <th>SIC</th>\n",
       "    </tr>\n",
       "  </thead>\n",
       "  <tbody>\n",
       "    <tr>\n",
       "      <th>3</th>\n",
       "      <td>MDLZ|XNGS</td>\n",
       "      <td>Equity</td>\n",
       "      <td>US</td>\n",
       "      <td>Mondelez International Ord Shs Class A</td>\n",
       "      <td>USD</td>\n",
       "      <td>XNGS</td>\n",
       "      <td>[0:0.0001][1:0.01]</td>\n",
       "      <td>[Reuters=MDLZ.OQ][Bloomberg=MDLZ US Equity][Es...</td>\n",
       "      <td>Nasdaq 100|Nasdaq Composite|Russell 1000|Russe...</td>\n",
       "      <td></td>\n",
       "      <td></td>\n",
       "      <td></td>\n",
       "      <td>1</td>\n",
       "      <td>1.0</td>\n",
       "      <td>US6092071058</td>\n",
       "      <td>609207105</td>\n",
       "      <td>B8CKK03</td>\n",
       "      <td>[SIC,2000 Food and Kindred Products][Nasdaq,Me...</td>\n",
       "      <td>8.645119e+10</td>\n",
       "      <td>20</td>\n",
       "    </tr>\n",
       "    <tr>\n",
       "      <th>23</th>\n",
       "      <td>KHC|XNGS</td>\n",
       "      <td>Equity</td>\n",
       "      <td>US</td>\n",
       "      <td>Kraft Heinz Company</td>\n",
       "      <td>USD</td>\n",
       "      <td>XNGS</td>\n",
       "      <td>[0:0.0001][1:0.01]</td>\n",
       "      <td>[Esignal=KHC][Figi=BBG005CPNTQ2][Idc|564=564|K...</td>\n",
       "      <td>Nasdaq 100|Nasdaq Composite|Russell 1000|Russe...</td>\n",
       "      <td></td>\n",
       "      <td></td>\n",
       "      <td></td>\n",
       "      <td>1</td>\n",
       "      <td>1.0</td>\n",
       "      <td>US5007541064</td>\n",
       "      <td>500754106</td>\n",
       "      <td>BYRY499</td>\n",
       "      <td>[SIC,2030 Canned, Frozen &amp; Preserved Fruit, Ve...</td>\n",
       "      <td>4.619619e+10</td>\n",
       "      <td>20</td>\n",
       "    </tr>\n",
       "    <tr>\n",
       "      <th>31</th>\n",
       "      <td>MNST|XNGS</td>\n",
       "      <td>Equity</td>\n",
       "      <td>US</td>\n",
       "      <td>Monster Beverage Cp</td>\n",
       "      <td>USD</td>\n",
       "      <td>XNGS</td>\n",
       "      <td>[0:0.0001][1:0.01]</td>\n",
       "      <td>[Esignal=MNST][Figi=BBG008NVB1C0][Bloomberg=MN...</td>\n",
       "      <td>Nasdaq 100|Nasdaq Composite|Russell 1000|Russe...</td>\n",
       "      <td></td>\n",
       "      <td></td>\n",
       "      <td></td>\n",
       "      <td>1</td>\n",
       "      <td>1.0</td>\n",
       "      <td>US61174X1090</td>\n",
       "      <td>61174X109</td>\n",
       "      <td>BZ07BW4</td>\n",
       "      <td>[Nasdaq,Beverages (Production/Distribution)][S...</td>\n",
       "      <td>4.143821e+10</td>\n",
       "      <td>20</td>\n",
       "    </tr>\n",
       "    <tr>\n",
       "      <th>40</th>\n",
       "      <td>KDP|XNGS</td>\n",
       "      <td>Equity</td>\n",
       "      <td>US</td>\n",
       "      <td>Keurig Dr Pepper Inc</td>\n",
       "      <td>USD</td>\n",
       "      <td>XNGS</td>\n",
       "      <td>[0:0.0001][1:0.01]</td>\n",
       "      <td>[Figi=BBG000TJM7F0][Bloomberg=KDP US Equity][F...</td>\n",
       "      <td>Nasdaq 100|Nasdaq Composite|Russell 1000|Russe...</td>\n",
       "      <td></td>\n",
       "      <td></td>\n",
       "      <td></td>\n",
       "      <td>1</td>\n",
       "      <td>1.0</td>\n",
       "      <td>US49271V1008</td>\n",
       "      <td>49271V100</td>\n",
       "      <td>BD3W133</td>\n",
       "      <td>[Nasdaq,Beverages (Production/Distribution)][S...</td>\n",
       "      <td>5.360639e+10</td>\n",
       "      <td>20</td>\n",
       "    </tr>\n",
       "    <tr>\n",
       "      <th>62</th>\n",
       "      <td>PEP|XNGS</td>\n",
       "      <td>Equity</td>\n",
       "      <td>US</td>\n",
       "      <td>Pepsico Inc</td>\n",
       "      <td>USD</td>\n",
       "      <td>XNGS</td>\n",
       "      <td>[0:0.0001][1:0.01]</td>\n",
       "      <td>[Idc|564=564|PEP][Figi=BBG000DH7JK6][Figic=BBG...</td>\n",
       "      <td>Nasdaq 100|Nasdaq Composite|Russell 1000|Russe...</td>\n",
       "      <td></td>\n",
       "      <td></td>\n",
       "      <td></td>\n",
       "      <td>1</td>\n",
       "      <td>1.0</td>\n",
       "      <td>US7134481081</td>\n",
       "      <td>713448108</td>\n",
       "      <td>2681511</td>\n",
       "      <td>[Nasdaq,Beverages (Production/Distribution)][S...</td>\n",
       "      <td>2.226527e+11</td>\n",
       "      <td>20</td>\n",
       "    </tr>\n",
       "  </tbody>\n",
       "</table>\n",
       "</div>"
      ],
      "text/plain": [
       "   Identifier    Type Country                                    Name  \\\n",
       "3   MDLZ|XNGS  Equity      US  Mondelez International Ord Shs Class A   \n",
       "23   KHC|XNGS  Equity      US                     Kraft Heinz Company   \n",
       "31  MNST|XNGS  Equity      US                     Monster Beverage Cp   \n",
       "40   KDP|XNGS  Equity      US                    Keurig Dr Pepper Inc   \n",
       "62   PEP|XNGS  Equity      US                             Pepsico Inc   \n",
       "\n",
       "   Currency Primary        TickSizeRule  \\\n",
       "3       USD    XNGS  [0:0.0001][1:0.01]   \n",
       "23      USD    XNGS  [0:0.0001][1:0.01]   \n",
       "31      USD    XNGS  [0:0.0001][1:0.01]   \n",
       "40      USD    XNGS  [0:0.0001][1:0.01]   \n",
       "62      USD    XNGS  [0:0.0001][1:0.01]   \n",
       "\n",
       "                                              Mapping  \\\n",
       "3   [Reuters=MDLZ.OQ][Bloomberg=MDLZ US Equity][Es...   \n",
       "23  [Esignal=KHC][Figi=BBG005CPNTQ2][Idc|564=564|K...   \n",
       "31  [Esignal=MNST][Figi=BBG008NVB1C0][Bloomberg=MN...   \n",
       "40  [Figi=BBG000TJM7F0][Bloomberg=KDP US Equity][F...   \n",
       "62  [Idc|564=564|PEP][Figi=BBG000DH7JK6][Figic=BBG...   \n",
       "\n",
       "                                                Index Open Close Time zone  \\\n",
       "3   Nasdaq 100|Nasdaq Composite|Russell 1000|Russe...                        \n",
       "23  Nasdaq 100|Nasdaq Composite|Russell 1000|Russe...                        \n",
       "31  Nasdaq 100|Nasdaq Composite|Russell 1000|Russe...                        \n",
       "40  Nasdaq 100|Nasdaq Composite|Russell 1000|Russe...                        \n",
       "62  Nasdaq 100|Nasdaq Composite|Russell 1000|Russe...                        \n",
       "\n",
       "    Lot size  PointValue          Isin      Cusip    Sedol  \\\n",
       "3          1         1.0  US6092071058  609207105  B8CKK03   \n",
       "23         1         1.0  US5007541064  500754106  BYRY499   \n",
       "31         1         1.0  US61174X1090  61174X109  BZ07BW4   \n",
       "40         1         1.0  US49271V1008  49271V100  BD3W133   \n",
       "62         1         1.0  US7134481081  713448108  2681511   \n",
       "\n",
       "                                              Sectors  Capitalization SIC  \n",
       "3   [SIC,2000 Food and Kindred Products][Nasdaq,Me...    8.645119e+10  20  \n",
       "23  [SIC,2030 Canned, Frozen & Preserved Fruit, Ve...    4.619619e+10  20  \n",
       "31  [Nasdaq,Beverages (Production/Distribution)][S...    4.143821e+10  20  \n",
       "40  [Nasdaq,Beverages (Production/Distribution)][S...    5.360639e+10  20  \n",
       "62  [Nasdaq,Beverages (Production/Distribution)][S...    2.226527e+11  20  "
      ]
     },
     "execution_count": 19,
     "metadata": {},
     "output_type": "execute_result"
    }
   ],
   "source": [
    "data_sec[0]"
   ]
  },
  {
   "cell_type": "code",
   "execution_count": 20,
   "id": "326a86ef-1d1f-41fe-a1ef-77435c43b8e4",
   "metadata": {},
   "outputs": [],
   "source": [
    "sic_list = [get_ticker_list(groupe) for groupe in data_sec]"
   ]
  },
  {
   "cell_type": "code",
   "execution_count": 21,
   "id": "3876eb9e-ee83-4308-86b3-c06cd9ea09e3",
   "metadata": {},
   "outputs": [
    {
     "data": {
      "text/plain": [
       "['MDLZ', 'KHC', 'MNST', 'KDP', 'PEP']"
      ]
     },
     "execution_count": 21,
     "metadata": {},
     "output_type": "execute_result"
    }
   ],
   "source": [
    "sic_list[0]"
   ]
  },
  {
   "cell_type": "markdown",
   "id": "c1d024a9-7619-4f09-b129-3a74f17c1ceb",
   "metadata": {},
   "source": [
    "## Création de toutes les paires possibles"
   ]
  },
  {
   "cell_type": "markdown",
   "id": "7ae900aa-24de-4126-ba49-a0b45b277400",
   "metadata": {},
   "source": [
    "#### Récupération des combinaisons dans chaque secteur"
   ]
  },
  {
   "cell_type": "code",
   "execution_count": 22,
   "id": "5aa88cc1-3112-4255-88cb-3152f9d5212b",
   "metadata": {},
   "outputs": [],
   "source": [
    "def list_combinations(liste_paires):   # On fait une combinaison de toutes les facons possibles de faire des paires\n",
    "    combi = []\n",
    "    for i in range(len(liste_paires)):\n",
    "        combi.append(list(itertools.combinations(liste_paires[i],2)))\n",
    "    return [x for sublist in combi for x in sublist if x != []]"
   ]
  },
  {
   "cell_type": "code",
   "execution_count": 23,
   "id": "c2740654-1d82-4b2e-8109-1834b20c0d66",
   "metadata": {},
   "outputs": [],
   "source": [
    "combinations = list_combinations(sic_list)  # Listes de tuples avec toutes les combinaisons possibles"
   ]
  },
  {
   "cell_type": "markdown",
   "id": "806aa964-f23a-45bc-a5bb-dc66e1b11343",
   "metadata": {},
   "source": [
    "### Requete de prix pour chaque paire possible"
   ]
  },
  {
   "cell_type": "markdown",
   "id": "1e942d9a-7399-43fe-b0fe-1af06e32619d",
   "metadata": {
    "tags": []
   },
   "source": [
    "#### Fonction qui va requêter les prix à travers l'API"
   ]
  },
  {
   "cell_type": "code",
   "execution_count": 24,
   "id": "f85dba1d-d95b-44eb-958d-971391053bf9",
   "metadata": {},
   "outputs": [],
   "source": [
    "def price_request(ticker, exchange):\n",
    "    request = daily_prices.DailyPricesRequest( identifier = identifier.Identifier(exchange = exchange, ticker = ticker))\n",
    "    \n",
    "    # open a gRPC channel\n",
    "    with open(os.environ['SSL_CERT_FILE'], 'rb') as f:\n",
    "        credentials = grpc.ssl_channel_credentials(f.read())\n",
    "    with grpc.secure_channel(os.environ['GRPC_APIS'], credentials) as channel:\n",
    "\n",
    "        # instantiate the daily prices service\n",
    "        service = daily_prices_service.DailyPricesServiceStub(channel)\n",
    "\n",
    "        # process the daily prices request\n",
    "        return service.DailyPrices(request = request, metadata = [('authorization', token)])"
   ]
  },
  {
   "cell_type": "markdown",
   "id": "db32d60b-7987-4cbd-a8c5-4a5ed63e0407",
   "metadata": {},
   "source": [
    "#### Cache"
   ]
  },
  {
   "cell_type": "code",
   "execution_count": 25,
   "id": "6d17df89-9007-41aa-9a8d-510250eff62c",
   "metadata": {},
   "outputs": [
    {
     "ename": "_InactiveRpcError",
     "evalue": "<_InactiveRpcError of RPC that terminated with:\n\tstatus = StatusCode.INTERNAL\n\tdetails = \"Internal Error in Daily Price Api\"\n\tdebug_error_string = \"{\"created\":\"@1647775210.055271438\",\"description\":\"Error received from peer ipv4:10.45.196.79:5001\",\"file\":\"src/core/lib/surface/call.cc\",\"file_line\":903,\"grpc_message\":\"Internal Error in Daily Price Api\",\"grpc_status\":13}\"\n>",
     "output_type": "error",
     "traceback": [
      "\u001b[0;31m---------------------------------------------------------------------------\u001b[0m",
      "\u001b[0;31m_InactiveRpcError\u001b[0m                         Traceback (most recent call last)",
      "\u001b[0;32m<timed exec>\u001b[0m in \u001b[0;36m<module>\u001b[0;34m\u001b[0m\n",
      "\u001b[0;32m<timed exec>\u001b[0m in \u001b[0;36m<listcomp>\u001b[0;34m(.0)\u001b[0m\n",
      "\u001b[0;32m/tmp/ipykernel_251/3951781247.py\u001b[0m in \u001b[0;36mprice_request\u001b[0;34m(ticker, exchange)\u001b[0m\n\u001b[1;32m     11\u001b[0m \u001b[0;34m\u001b[0m\u001b[0m\n\u001b[1;32m     12\u001b[0m         \u001b[0;31m# process the daily prices request\u001b[0m\u001b[0;34m\u001b[0m\u001b[0;34m\u001b[0m\u001b[0m\n\u001b[0;32m---> 13\u001b[0;31m         \u001b[0;32mreturn\u001b[0m \u001b[0mservice\u001b[0m\u001b[0;34m.\u001b[0m\u001b[0mDailyPrices\u001b[0m\u001b[0;34m(\u001b[0m\u001b[0mrequest\u001b[0m \u001b[0;34m=\u001b[0m \u001b[0mrequest\u001b[0m\u001b[0;34m,\u001b[0m \u001b[0mmetadata\u001b[0m \u001b[0;34m=\u001b[0m \u001b[0;34m[\u001b[0m\u001b[0;34m(\u001b[0m\u001b[0;34m'authorization'\u001b[0m\u001b[0;34m,\u001b[0m \u001b[0mtoken\u001b[0m\u001b[0;34m)\u001b[0m\u001b[0;34m]\u001b[0m\u001b[0;34m)\u001b[0m\u001b[0;34m\u001b[0m\u001b[0;34m\u001b[0m\u001b[0m\n\u001b[0m",
      "\u001b[0;32m/opt/conda/lib/python3.9/site-packages/grpc/_channel.py\u001b[0m in \u001b[0;36m__call__\u001b[0;34m(self, request, timeout, metadata, credentials, wait_for_ready, compression)\u001b[0m\n\u001b[1;32m    944\u001b[0m         state, call, = self._blocking(request, timeout, metadata, credentials,\n\u001b[1;32m    945\u001b[0m                                       wait_for_ready, compression)\n\u001b[0;32m--> 946\u001b[0;31m         \u001b[0;32mreturn\u001b[0m \u001b[0m_end_unary_response_blocking\u001b[0m\u001b[0;34m(\u001b[0m\u001b[0mstate\u001b[0m\u001b[0;34m,\u001b[0m \u001b[0mcall\u001b[0m\u001b[0;34m,\u001b[0m \u001b[0;32mFalse\u001b[0m\u001b[0;34m,\u001b[0m \u001b[0;32mNone\u001b[0m\u001b[0;34m)\u001b[0m\u001b[0;34m\u001b[0m\u001b[0;34m\u001b[0m\u001b[0m\n\u001b[0m\u001b[1;32m    947\u001b[0m \u001b[0;34m\u001b[0m\u001b[0m\n\u001b[1;32m    948\u001b[0m     def with_call(self,\n",
      "\u001b[0;32m/opt/conda/lib/python3.9/site-packages/grpc/_channel.py\u001b[0m in \u001b[0;36m_end_unary_response_blocking\u001b[0;34m(state, call, with_call, deadline)\u001b[0m\n\u001b[1;32m    847\u001b[0m             \u001b[0;32mreturn\u001b[0m \u001b[0mstate\u001b[0m\u001b[0;34m.\u001b[0m\u001b[0mresponse\u001b[0m\u001b[0;34m\u001b[0m\u001b[0;34m\u001b[0m\u001b[0m\n\u001b[1;32m    848\u001b[0m     \u001b[0;32melse\u001b[0m\u001b[0;34m:\u001b[0m\u001b[0;34m\u001b[0m\u001b[0;34m\u001b[0m\u001b[0m\n\u001b[0;32m--> 849\u001b[0;31m         \u001b[0;32mraise\u001b[0m \u001b[0m_InactiveRpcError\u001b[0m\u001b[0;34m(\u001b[0m\u001b[0mstate\u001b[0m\u001b[0;34m)\u001b[0m\u001b[0;34m\u001b[0m\u001b[0;34m\u001b[0m\u001b[0m\n\u001b[0m\u001b[1;32m    850\u001b[0m \u001b[0;34m\u001b[0m\u001b[0m\n\u001b[1;32m    851\u001b[0m \u001b[0;34m\u001b[0m\u001b[0m\n",
      "\u001b[0;31m_InactiveRpcError\u001b[0m: <_InactiveRpcError of RPC that terminated with:\n\tstatus = StatusCode.INTERNAL\n\tdetails = \"Internal Error in Daily Price Api\"\n\tdebug_error_string = \"{\"created\":\"@1647775210.055271438\",\"description\":\"Error received from peer ipv4:10.45.196.79:5001\",\"file\":\"src/core/lib/surface/call.cc\",\"file_line\":903,\"grpc_message\":\"Internal Error in Daily Price Api\",\"grpc_status\":13}\"\n>"
     ]
    }
   ],
   "source": [
    "%%time\n",
    "cache = pd.DataFrame({'Name' : ticker_list, 'Data' : [price_request(x, 'XNGS') for x in ticker_list]})"
   ]
  },
  {
   "cell_type": "code",
   "execution_count": 26,
   "id": "174631da-22c7-42fe-bad0-e38d79859b1b",
   "metadata": {},
   "outputs": [],
   "source": [
    "def df_paire(paire, exchange, cache):\n",
    "    response1 = cache.iloc[int(cache.index[cache['Name'] == paire[0]].values), 1]\n",
    "    response2 = cache.iloc[int(cache.index[cache['Name'] == paire[1]].values), 1]\n",
    "    \n",
    "    # prepare the dataframe content\n",
    "    dates1 = [datetime(p.date.year, p.date.month, p.date.day) for p in response1.data]\n",
    "    dates2 = [datetime(p.date.year, p.date.month, p.date.day) for p in response2.data]\n",
    "    if (len(dates1) <= len(dates2)):\n",
    "        dates = dates1\n",
    "    else:\n",
    "        dates = dates2\n",
    "    prices1 = [p.price for p in response1.data][-len(dates):]       # So all arrays have the same length\n",
    "    prices2 = [p.price for p in response2.data][-len(dates):]\n",
    "\n",
    "    d = {'Date': dates, f'{paire[0]}': prices1, f'{paire[1]}': prices2}\n",
    "    return pd.DataFrame(data=d)"
   ]
  },
  {
   "cell_type": "markdown",
   "id": "a196703f-14c0-40f6-8b87-dc0be5c5b663",
   "metadata": {},
   "source": [
    "#### Fonction qui agrège les requêtes entre elle pour classer les paires suivant leur groupe"
   ]
  },
  {
   "cell_type": "code",
   "execution_count": 27,
   "id": "0c49bef2-2304-48c5-896e-f7d3609ffb8a",
   "metadata": {},
   "outputs": [],
   "source": [
    "def pair_combination(combinations, exchange, cache):\n",
    "    temp = [df_paire(x, exchange, cache) for x in combinations]\n",
    "    return [x for x in temp if len(x) > 100]"
   ]
  },
  {
   "cell_type": "code",
   "execution_count": 28,
   "id": "af012aaf-eb70-4fdb-a8bb-147264605ebb",
   "metadata": {},
   "outputs": [
    {
     "ename": "NameError",
     "evalue": "name 'cache' is not defined",
     "output_type": "error",
     "traceback": [
      "\u001b[0;31m---------------------------------------------------------------------------\u001b[0m",
      "\u001b[0;31mNameError\u001b[0m                                 Traceback (most recent call last)",
      "\u001b[0;32m<timed exec>\u001b[0m in \u001b[0;36m<module>\u001b[0;34m\u001b[0m\n",
      "\u001b[0;31mNameError\u001b[0m: name 'cache' is not defined"
     ]
    }
   ],
   "source": [
    "%%time\n",
    "df_combi = pair_combination(combinations, 'XNGS', cache)  # Représente une liste avec les paires"
   ]
  },
  {
   "cell_type": "markdown",
   "id": "a308ab1b-9686-428b-a94d-a2f01024021e",
   "metadata": {
    "tags": []
   },
   "source": [
    "## Séparation entre les données de test et celles d'entrainement"
   ]
  },
  {
   "cell_type": "markdown",
   "id": "70858af2-1eed-4bc1-8c36-11b4b200192f",
   "metadata": {},
   "source": [
    "#### Data Splitting"
   ]
  },
  {
   "cell_type": "code",
   "execution_count": 29,
   "id": "c34392cc-4a0c-4ae1-97d3-4ffabfc081bd",
   "metadata": {},
   "outputs": [],
   "source": [
    "def addMonths(date):\n",
    "    b = pd.Timestamp(date) + pd.DateOffset(months=1)\n",
    "    return b"
   ]
  },
  {
   "cell_type": "code",
   "execution_count": 30,
   "id": "df3399d4-42f7-4cde-8f5f-728af0eada12",
   "metadata": {},
   "outputs": [],
   "source": [
    "def sep_tableau_train_test(df, train_start_date = np.datetime64('2014-01-01'), train_end_date = np.datetime64('2019-01-01'), test_end_date = np.datetime64('2021-01-01')):    # Séparation entre les données de test et de train\n",
    "    test_start_date = train_end_date\n",
    "    \n",
    "    test = []\n",
    "    train = []\n",
    "    for i in range(len(df)):\n",
    "        if (df[i].Date.iloc[0] <= train_start_date):\n",
    "            train_date = (df[i]['Date'] >= train_start_date) & (df[i]['Date'] < train_end_date)\n",
    "            test_date = (df[i]['Date'] >= test_start_date) & (df[i]['Date'] <= test_end_date)\n",
    "            train.append(df[i].loc[train_date])\n",
    "            test.append(df[i].loc[test_date])\n",
    "            \n",
    "    return train, test"
   ]
  },
  {
   "cell_type": "code",
   "execution_count": 31,
   "id": "8c4295ff-7811-4dda-bd43-3c63d4ff7102",
   "metadata": {
    "tags": []
   },
   "outputs": [
    {
     "ename": "NameError",
     "evalue": "name 'df_combi' is not defined",
     "output_type": "error",
     "traceback": [
      "\u001b[0;31m---------------------------------------------------------------------------\u001b[0m",
      "\u001b[0;31mNameError\u001b[0m                                 Traceback (most recent call last)",
      "\u001b[0;32m/tmp/ipykernel_251/991459083.py\u001b[0m in \u001b[0;36m<module>\u001b[0;34m\u001b[0m\n\u001b[0;32m----> 1\u001b[0;31m \u001b[0mtrain\u001b[0m\u001b[0;34m,\u001b[0m \u001b[0mtest\u001b[0m \u001b[0;34m=\u001b[0m \u001b[0msep_tableau_train_test\u001b[0m\u001b[0;34m(\u001b[0m\u001b[0mdf_combi\u001b[0m\u001b[0;34m)\u001b[0m\u001b[0;34m\u001b[0m\u001b[0;34m\u001b[0m\u001b[0m\n\u001b[0m",
      "\u001b[0;31mNameError\u001b[0m: name 'df_combi' is not defined"
     ]
    }
   ],
   "source": [
    "train, test = sep_tableau_train_test(df_combi)"
   ]
  },
  {
   "cell_type": "code",
   "execution_count": null,
   "id": "eada3d6c-53a5-4233-8380-bf11ad2ddc71",
   "metadata": {
    "tags": []
   },
   "outputs": [],
   "source": [
    "### Calcul du nombre de Paires crées\n",
    "\n",
    "\"Nombre de paires = \" + str(len(train))   # Nombre de paires"
   ]
  },
  {
   "cell_type": "code",
   "execution_count": null,
   "id": "50ec725b-42f2-4d6e-b2d2-038b42a547ac",
   "metadata": {},
   "outputs": [],
   "source": [
    "list(train[0].columns)[:3]"
   ]
  },
  {
   "cell_type": "markdown",
   "id": "2294e102-d993-4ba3-b95e-41917200f5be",
   "metadata": {},
   "source": [
    "## Fonctions de Sélections des paires"
   ]
  },
  {
   "cell_type": "markdown",
   "id": "82ee3277-dbde-4dca-8d08-9edc1ba927fb",
   "metadata": {},
   "source": [
    "#### Calcul de la cointégration"
   ]
  },
  {
   "cell_type": "code",
   "execution_count": null,
   "id": "583ee0fc-6376-47d4-8ed7-2bee19a5ebc5",
   "metadata": {},
   "outputs": [],
   "source": [
    "def coint_df(df):\n",
    "    df['Cointegration'] = pd.Series(cointegration_test(df.iloc[:,1], df.iloc[:,2]), index = df.index[[0]])\n",
    "    return df"
   ]
  },
  {
   "cell_type": "code",
   "execution_count": null,
   "id": "fee23846-722c-4bc2-8ac2-f061a26d8933",
   "metadata": {},
   "outputs": [],
   "source": [
    "def add_coint(df_combi):\n",
    "    return [coint_df(x) for x in copy.deepcopy(df_combi)]"
   ]
  },
  {
   "cell_type": "markdown",
   "id": "50416cbb-602e-45f0-999e-40bd11f353d9",
   "metadata": {},
   "source": [
    "#### Calcul de la stationnarité"
   ]
  },
  {
   "cell_type": "code",
   "execution_count": null,
   "id": "cd7d7604-43a6-4edf-ab0e-f1791ffcef3e",
   "metadata": {},
   "outputs": [],
   "source": [
    "def statio_df(df, column_name, indicateur):\n",
    "    df[column_name] = pd.Series(stationarity_test_pvalue(df[indicateur]), index = df.index[[0]])\n",
    "    return df"
   ]
  },
  {
   "cell_type": "code",
   "execution_count": null,
   "id": "e8f58410-c01e-4462-b905-508f4f367f40",
   "metadata": {},
   "outputs": [],
   "source": [
    "def add_statio(df, column_name, indicateur):\n",
    "    return [statio_df(x, column_name, indicateur) for x in copy.deepcopy(df)]"
   ]
  },
  {
   "cell_type": "markdown",
   "id": "3888fcdd-f752-4c01-a5f6-25f485699b1b",
   "metadata": {},
   "source": [
    "#### Calcul du ratio"
   ]
  },
  {
   "cell_type": "code",
   "execution_count": null,
   "id": "9c35fcb7-ee5c-49bd-904f-fb9ac5030c76",
   "metadata": {},
   "outputs": [],
   "source": [
    "def ratio_df(df):\n",
    "    df['Ratio'] = df.iloc[:,1] / df.iloc[:,2]\n",
    "    return df"
   ]
  },
  {
   "cell_type": "code",
   "execution_count": null,
   "id": "874eef7e-01dd-4b6c-b3b6-7b0a305ac1df",
   "metadata": {},
   "outputs": [],
   "source": [
    "def add_ratio_list_df(df):\n",
    "    return add_statio(df, 'Statio_Ratio', 'Ratio')"
   ]
  },
  {
   "cell_type": "markdown",
   "id": "ac755341-6d29-4d47-9f4c-66f52ea41e1b",
   "metadata": {},
   "source": [
    "#### Calcul du log-ratio"
   ]
  },
  {
   "cell_type": "code",
   "execution_count": null,
   "id": "aed0de43-2beb-463b-add1-bd00b6354ae5",
   "metadata": {},
   "outputs": [],
   "source": [
    "def log_ratio_df(df):\n",
    "    df['Log_Ratio'] = np.log(df.iloc[:,1] / df.iloc[:,2])\n",
    "    return df"
   ]
  },
  {
   "cell_type": "code",
   "execution_count": null,
   "id": "e9aad812-cee0-4e94-b8ed-e3e7e3c0972c",
   "metadata": {},
   "outputs": [],
   "source": [
    "def add_log_list_df(df):\n",
    "    return add_statio(df, 'Statio_Log_Ratio', 'Log_Ratio')"
   ]
  },
  {
   "cell_type": "markdown",
   "id": "6c6b9d3d-41ea-4819-8968-6bd9778f878f",
   "metadata": {},
   "source": [
    "##### Ajout des ratios au df"
   ]
  },
  {
   "cell_type": "code",
   "execution_count": null,
   "id": "4d8af498-1def-4735-9cfb-af8305ca4c4a",
   "metadata": {},
   "outputs": [],
   "source": [
    "def add_ratios(df):\n",
    "    df_copy = [ratio_df(x) for x in copy.deepcopy(df)]\n",
    "    return [log_ratio_df(x) for x in df_copy]"
   ]
  },
  {
   "cell_type": "markdown",
   "id": "0bbd2385-249d-4a07-ac0b-10da2683747e",
   "metadata": {
    "tags": []
   },
   "source": [
    "#### Fonction qui enlève les paires peu cointégrées"
   ]
  },
  {
   "cell_type": "code",
   "execution_count": null,
   "id": "9a237890-c63b-4ef2-923e-d482d9681d9c",
   "metadata": {},
   "outputs": [],
   "source": [
    "def drop_faible_coint(train, threshold):    # Retourne une liste de paires suffisament cointégrés\n",
    "    return [x for x in train if (x['Cointegration'].iloc[0] < threshold)]"
   ]
  },
  {
   "cell_type": "markdown",
   "id": "d694ac2a-4a58-4cc5-a9c2-eb28206392aa",
   "metadata": {
    "tags": []
   },
   "source": [
    "#### Fonction qui enlève les paires dont les 2 indicateurs sont non-stationnaires"
   ]
  },
  {
   "cell_type": "code",
   "execution_count": null,
   "id": "4b809dd8-bfb5-4686-afaa-20c12331fd0a",
   "metadata": {
    "tags": []
   },
   "outputs": [],
   "source": [
    "def drop_faible_statio(df_combi, threshold):    # Retourne une liste de paires suffisament cointégrés\n",
    "    df_combi_copy = []\n",
    "    count_ratio = 0\n",
    "    count_log = 0\n",
    "    same = 0\n",
    "\n",
    "    for x in df_combi:\n",
    "        if x['Statio_Ratio'].iloc[0] < threshold:     # On compte le nombre de stationnarité acceptable entre le ratio classique et le log_ratio\n",
    "            count_ratio += 1\n",
    "        if x['Statio_Log_Ratio'].iloc[0] < threshold:\n",
    "            count_log += 1\n",
    "        if x['Statio_Log_Ratio'].iloc[0] < threshold and x['Statio_Ratio'].iloc[0] < threshold:\n",
    "            same += 1\n",
    "            \n",
    "    return [x for x in df_combi if (x['Statio_Log_Ratio'].iloc[0] < threshold)], count_ratio, count_log, same"
   ]
  },
  {
   "cell_type": "markdown",
   "id": "dc02f011-00b7-4f18-85cb-cab7278ff07f",
   "metadata": {},
   "source": [
    "#### Cointégration"
   ]
  },
  {
   "cell_type": "code",
   "execution_count": null,
   "id": "4c4b00c2-bf49-489b-96d6-6b0ac0ac4ad1",
   "metadata": {
    "scrolled": true,
    "tags": []
   },
   "outputs": [],
   "source": [
    "%%time\n",
    "df_coint = add_coint(train)"
   ]
  },
  {
   "cell_type": "markdown",
   "id": "e2324e04-c9e3-448f-99bc-323b320140cc",
   "metadata": {
    "tags": []
   },
   "source": [
    "### Fonction qui agrège les différentes fonctions de sélection (Log-Ratio, Ratio, Stationnarité des indicateurs) et qui enlève les paires qui ne valident pas les critères."
   ]
  },
  {
   "cell_type": "code",
   "execution_count": null,
   "id": "92f31bd7-8f46-491d-a688-99831ab07df1",
   "metadata": {},
   "outputs": [],
   "source": [
    "def pair_selection(df_coint):\n",
    "    df = [x for x in df_coint if (x['Cointegration'].iloc[0] < 0.05)]\n",
    "    print(\"drop_faible_coint OK\")\n",
    "    df = add_ratios(df)\n",
    "    print(\"Add_Ratios OK\")\n",
    "    df = add_log_list_df(df)\n",
    "    print(\"Add_Log_List OK\")\n",
    "    df = add_ratio_list_df(df)\n",
    "    print(\"Add_Ratio_List OK\")\n",
    "    return drop_faible_statio(df, 0.05)"
   ]
  },
  {
   "cell_type": "code",
   "execution_count": null,
   "id": "a74aa62d-5659-4011-bed1-b62e3075b105",
   "metadata": {
    "scrolled": true,
    "tags": []
   },
   "outputs": [],
   "source": [
    "def test_selection(train, test):\n",
    "    train_list = [list(x.columns)[:3] for x in train]\n",
    "    return [x for x in test if list(x.columns) in train_list]"
   ]
  },
  {
   "cell_type": "code",
   "execution_count": null,
   "id": "6b1b90db-6f8b-4e4c-9ac0-2df82f944cbc",
   "metadata": {},
   "outputs": [],
   "source": [
    "def test_selection_full(train, test):\n",
    "    return [x for x in test]"
   ]
  },
  {
   "cell_type": "code",
   "execution_count": null,
   "id": "b0b11280-5b38-44e0-87e6-23182c10c146",
   "metadata": {},
   "outputs": [],
   "source": [
    "%%time\n",
    "train, ratio_score, log_score, same = pair_selection(df_coint)\n",
    "\n",
    "test = test_selection(train, test)"
   ]
  },
  {
   "cell_type": "code",
   "execution_count": null,
   "id": "84206032-b8ca-4035-bc46-727cf9cd01a3",
   "metadata": {},
   "outputs": [],
   "source": [
    "# test[0]\n",
    "# w = (test[2]['Date'] >= np.datetime64('2019-01-02')) & (test[2]['Date'] < np.datetime64('2019-02-01'))\n",
    "\n",
    "# test[2]['Selected'] = w\n",
    "# test[2]"
   ]
  },
  {
   "cell_type": "code",
   "execution_count": null,
   "id": "cfff45b4-9394-49af-9ff6-67c3b057d54b",
   "metadata": {},
   "outputs": [],
   "source": [
    "test[2]"
   ]
  },
  {
   "cell_type": "code",
   "execution_count": null,
   "id": "3e04320c-af87-45cc-87b3-060945b0a747",
   "metadata": {},
   "outputs": [],
   "source": [
    "train[0]"
   ]
  },
  {
   "cell_type": "markdown",
   "id": "110009e4-e60f-4750-b4fc-fd089ee5429c",
   "metadata": {
    "tags": []
   },
   "source": [
    "## Score de la sélection des paires"
   ]
  },
  {
   "cell_type": "code",
   "execution_count": null,
   "id": "22694d78-3004-4647-923b-6ac171870495",
   "metadata": {},
   "outputs": [],
   "source": [
    "\"Score ratio = \" + str(ratio_score) + \" Score Log_Ratio = \" + str(log_score) + \" Same = \" + str(same)"
   ]
  },
  {
   "cell_type": "code",
   "execution_count": null,
   "id": "80d0282a-5005-44fb-90f9-f88c39f3c324",
   "metadata": {},
   "outputs": [],
   "source": [
    "#We plot a random cointegrate pair to verify if everything is ok\n",
    "plt.figure(figsize=(25, 10))\n",
    "plt.plot('Date', test[0].columns[1], data=test[0], marker='', color='blue', linewidth=1, alpha = 0.6)\n",
    "plt.plot('Date', test[0].columns[2], data=test[0], marker='', color='red', linewidth=1, alpha = 0.6)\n",
    "plt.ylabel('Price')\n",
    "plt.xlabel('Date')\n",
    "plt.title(\"{} and {} prices\".format(test[0].columns[1],test[0].columns[2]))\n",
    "plt.show()"
   ]
  },
  {
   "cell_type": "code",
   "execution_count": null,
   "id": "6f0cdbb3-336f-48ab-9f4e-314c0192c9dd",
   "metadata": {},
   "outputs": [],
   "source": [
    "test[0]."
   ]
  },
  {
   "cell_type": "markdown",
   "id": "c4cfc080-a62c-4eea-b60d-1aad91f94935",
   "metadata": {
    "tags": []
   },
   "source": [
    "# Investissement"
   ]
  },
  {
   "cell_type": "code",
   "execution_count": null,
   "id": "b88b79f6-cd44-490b-85b1-03cb8096fa9b",
   "metadata": {},
   "outputs": [],
   "source": [
    "def calcul_moyenne_mobile(liste_df):\n",
    "    window = 50\n",
    "    liste_df = [log_ratio_df(df) for df in liste_df]\n",
    "    liste_df = [ratio_df(df) for df in liste_df]\n",
    "    \n",
    "    for i in range(len(liste_df)):\n",
    "        # Calcul de la moyenne mobile\n",
    "        rolling_window = liste_df[i]['Log_Ratio'].rolling(window=window, center=False)\n",
    "        rolling_window_mean = rolling_window.mean()\n",
    "        rolling_window_std  = rolling_window.std()\n",
    "\n",
    "        Z_score_rolling = (liste_df[i]['Log_Ratio'] - rolling_window_mean)/ rolling_window_std\n",
    "        liste_df[i]['Zscore_rolling'] = Z_score_rolling\n",
    "    return liste_df"
   ]
  },
  {
   "cell_type": "code",
   "execution_count": null,
   "id": "b8c394ba-6db0-4265-bda4-752084fc9eee",
   "metadata": {},
   "outputs": [],
   "source": [
    "test = calcul_moyenne_mobile(test)\n",
    "train = calcul_moyenne_mobile(train)"
   ]
  },
  {
   "cell_type": "code",
   "execution_count": null,
   "id": "20e69ab2-4da3-4e02-b4ed-4ae4b78b5326",
   "metadata": {},
   "outputs": [],
   "source": [
    "#We plot a random cointegrate pair to verify if everything is ok\n",
    "plt.figure(figsize=(25, 10))\n",
    "plt.plot('Date','Log_Ratio', data=train[0][0])\n",
    "plt.plot('Date','Log_Ratio', data=test[0][0])\n",
    "plt.axhline(train[0][0].Log_Ratio.mean())\n",
    "plt.ylabel('Log_Ratio')\n",
    "plt.xlabel('Date')\n",
    "plt.title(\"{} and {} Log_Ratio\".format(test[0][0].columns[1],test[0][0].columns[2]))\n",
    "plt.show()"
   ]
  },
  {
   "cell_type": "code",
   "execution_count": null,
   "id": "bdd96415-a67f-487a-99eb-3e377d38f914",
   "metadata": {},
   "outputs": [],
   "source": [
    "def graph_invest(df):\n",
    "    # Band\n",
    "    # Z-Score\n",
    "    df = copy.deepcopy(df).iloc[:500] \n",
    "    plt.figure(figsize=(25, 10))\n",
    "    plt.plot('Date', 'Zscore_rolling', data=df, marker='', color='blue', linewidth=1, alpha =  0.6, label='Zscore_rolling')\n",
    "    day_count = 0\n",
    "    \n",
    "    position = False \n",
    "    for i in range(len(df)):\n",
    "        day_count += 1\n",
    "        if abs(df.Zscore_rolling.iloc[i]) > 2.5 and position == True: # Stop loss\n",
    "            plt.plot(df.Date.iloc[i], df.Zscore_rolling.iloc[i], color='red', linestyle='None', marker='o')\n",
    "            position = False\n",
    "            day_count = 0\n",
    "        \n",
    "        elif day_count > 50:\n",
    "            plt.plot(df.Date.iloc[i], df.Zscore_rolling.iloc[i], color='grey', linestyle='None', marker='o')\n",
    "            day_count = 0\n",
    "            \n",
    "        elif abs(df.Zscore_rolling.iloc[i]) > 1 and abs(df.Zscore_rolling.iloc[i]) < 2.5 and position == False and (-1 <= df['Zscore_rolling'].iloc[i-1] <= 1): # Entry Rule\n",
    "            plt.plot(df.Date.iloc[i], df.Zscore_rolling.iloc[i], color='green', linestyle='None', marker='^')\n",
    "            position = True\n",
    "            day_count = 0\n",
    "        \n",
    "        elif df.Zscore_rolling.iloc[i] * df.Zscore_rolling.iloc[i-1] < 0 and position == True: # Exit Rule\n",
    "            plt.plot(df.Date.iloc[i], df.Zscore_rolling.iloc[i], color='orange', linestyle='None', marker='s')\n",
    "            position = False\n",
    "            day_count = 0\n",
    "        \n",
    "        \n",
    "        \n",
    "            \n",
    "    \n",
    "    plt.axhline(1, color = 'green')\n",
    "    plt.axhline(-1, color = 'green')\n",
    "    plt.axhline(2.5, color = 'red')\n",
    "    plt.axhline(-2.5, color = 'red')\n",
    "    plt.axhline(0, color = 'orange')\n",
    "    plt.ylabel('Price')\n",
    "    plt.xlabel('Date')\n",
    "    plt.title(\"Zscore for pair {} and {}\".format(df.columns[1],df.columns[2]))\n",
    "    plt.show()\n",
    "    "
   ]
  },
  {
   "cell_type": "code",
   "execution_count": null,
   "id": "5b4d988c-aa0f-4b3e-a148-a42ea6e156ab",
   "metadata": {},
   "outputs": [],
   "source": [
    "graph_invest(df_test[1][0])"
   ]
  },
  {
   "cell_type": "code",
   "execution_count": null,
   "id": "90867fbe-e9b3-42d2-8201-0dc8fa906d78",
   "metadata": {
    "tags": []
   },
   "outputs": [],
   "source": [
    "def invest(df, entry_value, exit_value, stoploss_value, invest_value):\n",
    "    vol_A = [0]\n",
    "    vol_B = [0]\n",
    "    total = [invest_value]\n",
    "    ratio = list(df.Ratio)\n",
    "    price_A = list(df.iloc[:,1])\n",
    "    price_B = list(df.iloc[:,2])\n",
    "    day_count = 0\n",
    "    count = [0]\n",
    "    position = False\n",
    "    status = ['']\n",
    "    \n",
    "    for i in range(len(df)):\n",
    "        if abs(df['Zscore_rolling'].iloc[i]) > stoploss_value:   # Stop-loss / Valeur absolue\n",
    "            total.append(total[-1] + vol_A[-1] * price_A[i] + vol_B[-1] * price_B[i])\n",
    "            vol_A.append(0)\n",
    "            vol_B.append(0)\n",
    "            day_count = 0\n",
    "            count.append(day_count)\n",
    "            position = False\n",
    "            status.append(\"Stop Loss\")\n",
    "            \n",
    "        elif df['Zscore_rolling'].iloc[i] * df['Zscore_rolling'].iloc[i-1]  < 0 and position == True:   # Clear Positions\n",
    "            total.append(total[-1] + vol_A[-1] * price_A[i] + vol_B[-1] * price_B[i])\n",
    "            vol_A.append(0)\n",
    "            vol_B.append(0)\n",
    "            day_count = 0\n",
    "            count.append(day_count)\n",
    "            position = False\n",
    "            status.append(\"Clear\")\n",
    "            \n",
    "        elif day_count > 50:    # Time-Limit\n",
    "            total.append(total[-1] + vol_A[-1] * price_A[i] + vol_B[-1] * price_B[i])\n",
    "            vol_A.append(0)\n",
    "            vol_B.append(0)\n",
    "            day_count = 0\n",
    "            count.append(day_count)\n",
    "            position = False\n",
    "            status.append(\"Time Limit\")\n",
    "        \n",
    "        elif df['Zscore_rolling'].iloc[i] > entry_value and (-1 <= df['Zscore_rolling'].iloc[i-1] <= 1) :    # Zscore above band\n",
    "            if (position == False):\n",
    "                vol_A.append(int(- (total[-1]/2) / price_A[i]))            # Sell A\n",
    "                vol_B.append(int(+ (total[-1]/2) / price_B[i]))       # Buy B\n",
    "                total.append(total[-1] + vol_A[-1] * price_A[i] + vol_B[-1] * price_B[i])\n",
    "                position = True\n",
    "                day_count = 0\n",
    "                count.append(day_count)\n",
    "                status.append(\"Uppper\")\n",
    "            else:\n",
    "                vol_A.append(vol_A[-1])\n",
    "                vol_B.append(vol_B[-1])\n",
    "                total.append(total[-1])\n",
    "                day_count += 1\n",
    "                count.append(day_count)\n",
    "                status.append(\"Unchanged\")\n",
    "            \n",
    "        elif df['Zscore_rolling'].iloc[i] < - entry_value and (-1 <= df['Zscore_rolling'].iloc[i-1] <= 1):     # Zscore under band\n",
    "            if (position == False):\n",
    "                vol_A.append(int(+ (total[-1]/2) / price_A[i]))            # Buy A\n",
    "                vol_B.append(int(- (total[-1]/2) / price_B[i]))       # Sell B\n",
    "                total.append(total[-1] + vol_A[-1] * price_A[i] + vol_B[-1] * price_B[i])\n",
    "                position = True\n",
    "                day_count = 0\n",
    "                count.append(day_count)\n",
    "                status.append(\"Lower\")\n",
    "            else:\n",
    "                vol_A.append(vol_A[-1])\n",
    "                vol_B.append(vol_B[-1])\n",
    "                total.append(total[-1])\n",
    "                day_count += 1\n",
    "                count.append(day_count)\n",
    "                status.append(\"Unchanged\")\n",
    "        \n",
    "        else:\n",
    "            vol_A.append(vol_A[-1])\n",
    "            vol_B.append(vol_B[-1])\n",
    "            total.append(total[-1])\n",
    "            day_count += 1\n",
    "            count.append(day_count)\n",
    "            status.append(\"Unchanged\")\n",
    "\n",
    "    df['Vol_A'] = vol_A[1:]\n",
    "    df['Vol_B'] = vol_B[1:]\n",
    "    df['Total'] = total[1:]\n",
    "    df['Status'] = status[1:]\n",
    "    df['Day_count'] = count[1:]\n",
    "    \n",
    "    return df"
   ]
  },
  {
   "cell_type": "code",
   "execution_count": null,
   "id": "10ae8b5f-11e8-4ccf-915c-78d76e0488c0",
   "metadata": {},
   "outputs": [],
   "source": [
    "df_test = [invest(df, 1, 0, 2.5, 100000) for df in df_test]"
   ]
  },
  {
   "cell_type": "code",
   "execution_count": null,
   "id": "5d2fe560-6a85-48eb-b101-67794765dfbe",
   "metadata": {
    "tags": []
   },
   "outputs": [],
   "source": [
    "with pd.option_context('display.max_rows', None,\n",
    "                       'display.max_columns', None,\n",
    "                       'display.precision', 3,\n",
    "                       ):\n",
    "    display(df_test[1])"
   ]
  },
  {
   "cell_type": "code",
   "execution_count": null,
   "id": "7818db03-2b9f-4afa-b02d-852dd01b29b3",
   "metadata": {},
   "outputs": [],
   "source": [
    "def display_profit(df_list, train):\n",
    "    df_profit = pd.DataFrame(columns=['Name_A','Name_B','Profit'])\n",
    "    index = 0\n",
    "    for i in range(len(df_list)):\n",
    "        df_profit = pd.concat([df_profit, pd.DataFrame(data = {'Name_A':df_list[i].columns[1], 'Name_B':df_list[i].columns[2], 'Profit':df_list[i].Total.iloc[-1]}, index = [index])])\n",
    "        index += 1\n",
    "    return df_profit"
   ]
  },
  {
   "cell_type": "code",
   "execution_count": null,
   "id": "95fd31e6-278c-4f44-9f65-f54fb5081c3f",
   "metadata": {},
   "outputs": [],
   "source": [
    "df_final = display_profit(df_test, train)\n",
    "df_final"
   ]
  },
  {
   "cell_type": "code",
   "execution_count": null,
   "id": "83d80396-f607-4cf5-ae87-e7fb90107e52",
   "metadata": {},
   "outputs": [],
   "source": []
  },
  {
   "cell_type": "code",
   "execution_count": null,
   "id": "6c3235f7-6328-402e-aab0-5ebdcbc0c69e",
   "metadata": {},
   "outputs": [],
   "source": [
    "sum(df_final.Profit / len(df_final))"
   ]
  },
  {
   "cell_type": "code",
   "execution_count": null,
   "id": "e476e6fd-fdd9-47cc-aafa-795e5961df6e",
   "metadata": {},
   "outputs": [],
   "source": [
    "addMonths(np.datetime64('2015-12-01'))"
   ]
  },
  {
   "cell_type": "code",
   "execution_count": null,
   "id": "75b5dca3-3e99-4cfa-86eb-f364f40ce5f2",
   "metadata": {
    "tags": []
   },
   "outputs": [],
   "source": [
    "def strat_by_pair(cache, combinations, train_start = np.datetime64('2014-01-01'), train_end = np.datetime64('2019-01-01')):\n",
    "    test_final = []\n",
    "    wallet = sep_tableau_train_test(combinations, train_start, train_end)[1]\n",
    "    wallet = copy.deepcopy(wallet)\n",
    "    test_start = train_end\n",
    "    for i in range(len(wallet)):\n",
    "        wallet[i]['Selected'] = False\n",
    "    \n",
    "    for i in range(1):\n",
    "        # Séparation fenêtre glissante train/test (date de début et fin en paramètre) AVEC DES INDICES\n",
    "        train,test = sep_tableau_train_test(combinations, train_start, train_end)    # Split Data between train and test with their date\n",
    "        # Pair Selection (Cointegration + Stationarity)\n",
    "        train = add_coint(train)\n",
    "        train, ratio_score, log_score, same = pair_selection(train)\n",
    "        train_list = [list(x.columns)[:3] for x in train]\n",
    "        for j in range(len(wallet)):\n",
    "            if list(wallet[j].columns[:3]) in train_list:\n",
    "                wallet[j]['Selected'].loc[(wallet[j]['Date'] >= test_start) & (wallet[j]['Date'] < addMonths(test_start))] = True\n",
    "                \n",
    "                #print(wallet[j][(wallet[j]['Date'] >= test_start) & (wallet[j]['Date'] < addMonths(test_start))])\n",
    "                \n",
    "        # test[0]\n",
    "        # w = (test[2]['Date'] >= np.datetime64('2019-01-02')) & (test[2]['Date'] < np.datetime64('2019-02-01'))\n",
    "\n",
    "        # test[2]['Selected'] = w\n",
    "        # test[2]\n",
    "        # On lance l'investissement sur le test\n",
    "        test = calcul_moyenne_mobile(copy.deepcopy(test))\n",
    "        test_invest = [invest(df, 1, 0, 2.5, 100000) for df in test]\n",
    "        test_final.append(display_profit(test_invest,train))\n",
    "        # On incrémente d'un mois\n",
    "        print(f\"Pair n°{len(test_final)} Train date from {train_start} to {train_end}\")\n",
    "        \n",
    "        # Incrémentation d'un mois de toutes les dates\n",
    "        test_start = addMonths(test_start)\n",
    "        train_start = addMonths(train_start)\n",
    "        train_end = addMonths(train_end)\n",
    "                          \n",
    "    return test_final"
   ]
  },
  {
   "cell_type": "code",
   "execution_count": null,
   "id": "51ae9d84-25ad-4634-93b8-c3fbf4488d64",
   "metadata": {},
   "outputs": [],
   "source": [
    "plot = strat_by_pair(cache, df_combi)"
   ]
  },
  {
   "cell_type": "code",
   "execution_count": null,
   "id": "ecf4a723-5ae2-4c17-9d7f-e8c0d66dfb00",
   "metadata": {},
   "outputs": [],
   "source": [
    "plot[0],plot[1],plot[2]"
   ]
  },
  {
   "cell_type": "markdown",
   "id": "c69d1335-5bf8-4acd-b122-a9ce55873d26",
   "metadata": {
    "tags": []
   },
   "source": [
    "# Others"
   ]
  },
  {
   "cell_type": "code",
   "execution_count": null,
   "id": "1d9bfc39-5559-4998-bc22-b0a32c08d765",
   "metadata": {},
   "outputs": [],
   "source": [
    "def linear_regression(df): #prends en entrée un dataframe représentant une paire\n",
    "# Engle-Granger method (spread method)\n",
    "    S1=df[df.columns[1]]\n",
    "    S2=df[df.columns[2]]\n",
    "    S1 = sm.add_constant(S1)\n",
    "    results = sm.OLS(S2, S1).fit()\n",
    "    S1 = S1[df.columns[1]]\n",
    "    b = results.params[df.columns[1]]\n",
    "    spread = S2 - b * S1\n",
    "    df['Spread']=spread\n",
    "    ''' Plot for seeing \n",
    "    spread.plot(figsize=(12,6))\n",
    "    plt.axhline(spread.mean(), color='black')\n",
    "    plt.legend(['Spread']);\n",
    "    '''\n",
    "    return df"
   ]
  },
  {
   "cell_type": "code",
   "execution_count": null,
   "id": "a5f86c5c-f771-4082-86ec-522891878e66",
   "metadata": {},
   "outputs": [],
   "source": [
    "def rendement(df,j):\n",
    "    #calculate the yield of the last j days\n",
    "    rend1=[0 for i in range(j)]\n",
    "    rend2=[0 for i in range(j)]\n",
    "    for i in range(j,df.shape[0]):\n",
    "        rend1.append((df.loc[i,df.columns[1]]-df.loc[i-j,df.columns[1]]) / df.loc[i-j,df.columns[1]])\n",
    "        rend2.append((df.loc[i,df.columns[2]]-df.loc[i-j,df.columns[2]]) / df.loc[i-j,df.columns[2]])\n",
    "    df[\"Rend_\" + df.columns[1]]=rend1 \n",
    "    df[\"Rend_\" + df.columns[2]]=rend2 \n",
    "    return df"
   ]
  },
  {
   "cell_type": "code",
   "execution_count": null,
   "id": "e853ee33-5b30-451d-b648-11cfb37cb241",
   "metadata": {},
   "outputs": [],
   "source": [
    "def volatility(df,j):\n",
    "    vol1=[0 for i in range(j)]\n",
    "    vol2=[0 for i in range(j)]\n",
    "    for i in range(j,df.shape[0]):\n",
    "        vol1.append(df[df.columns[1]][i-j:i].std())\n",
    "        vol2.append(df[df.columns[2]][i-j:i].std())\n",
    "    df[\"Vol_\" + df.columns[1]]=vol1 \n",
    "    df[\"Vol_\" + df.columns[2]]=vol2 \n",
    "    return df\n",
    "    "
   ]
  },
  {
   "cell_type": "code",
   "execution_count": null,
   "id": "39da4a08-4676-4485-b2bf-313855f10c05",
   "metadata": {},
   "outputs": [],
   "source": [
    " find_stationarity(list_pairs) # All pair1-pair2 are not stationary (it makes sense)"
   ]
  },
  {
   "cell_type": "code",
   "execution_count": null,
   "id": "d610c727-f14b-4034-8422-6156fbe52cca",
   "metadata": {},
   "outputs": [],
   "source": [
    "for i in range(len(list_pairs)):\n",
    "    if len(list_pairs[i])!=0:\n",
    "        for j in range(len(list_pairs[i])):\n",
    "            list_pairs[i][j]=linear_regression(list_pairs[i][j])\n",
    "            list_pairs[i][j]=zscore(list_pairs[i][j])\n",
    "            if list_pairs[i][j] is False: #we verify that each zscore series is stationary\n",
    "                print(list_pairs[i][j].columns[2]+\" - \"+ list_pairs[i][j].columns[1] + \" not stationary\")\n",
    "            list_pairs[i][j]=volatility(list_pairs[i][j],30)\n",
    "            \n",
    "\n",
    "            \n",
    "            \n",
    "list_pairs[13][0][\"Zscore\"].plot(figsize=(12,6))\n",
    "plt.axhline(list_pairs[13][0][\"Zscore\"].mean())\n",
    "plt.axhline(list_pairs[13][0][\"Zscore\"].std(), color='red')\n",
    "plt.axhline(-list_pairs[13][0][\"Zscore\"].std(), color='green')\n",
    "plt.show()"
   ]
  },
  {
   "cell_type": "code",
   "execution_count": null,
   "id": "5837f1ae-827b-4232-b449-c680d8b840a5",
   "metadata": {},
   "outputs": [],
   "source": [
    "print(list_pairs[13][0])\n",
    "print(adfuller(list_pairs[13][0][\"Zscore\"])[1])"
   ]
  },
  {
   "cell_type": "code",
   "execution_count": null,
   "id": "8864f691-4770-48a1-96a5-eccdb8d2b39e",
   "metadata": {},
   "outputs": [],
   "source": [
    "df_invest[0][0]"
   ]
  },
  {
   "cell_type": "code",
   "execution_count": null,
   "id": "902224f8-c130-4e50-bc00-fd3c9aa6ce9e",
   "metadata": {},
   "outputs": [],
   "source": [
    "def signal_invest(liste_paire):\n",
    "    for i in range(len(liste_paire)):\n",
    "        for j in range(len(liste_paire[i])):"
   ]
  }
 ],
 "metadata": {
  "kernelspec": {
   "display_name": "Python 3 (ipykernel)",
   "language": "python",
   "name": "python3"
  },
  "language_info": {
   "codemirror_mode": {
    "name": "ipython",
    "version": 3
   },
   "file_extension": ".py",
   "mimetype": "text/x-python",
   "name": "python",
   "nbconvert_exporter": "python",
   "pygments_lexer": "ipython3",
   "version": "3.9.7"
  }
 },
 "nbformat": 4,
 "nbformat_minor": 5
}
